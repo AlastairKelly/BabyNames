{
 "cells": [
  {
   "cell_type": "markdown",
   "id": "65629bab",
   "metadata": {},
   "source": [
    "# Introduction\n",
    "My cousin Morgan and his wife are expecting their second child. I asked them what names they are considering. They don't know *what* name they want to give the baby, but they do know what *kind* of name they want to give it. Normal, but not *too* common. You know, distinctive, but not *too* weird. A just-right \"Goldilocks\" name. \n",
    "\n",
    "As Goldilocks's own parents have demonstrated, it's a matter of taste whether a name is TOO common or TOO weird. But I suggested to Morgan that as long as he could put some quantative parameters on too common, he could use naming statistics to generate candidate baby names that are *objectively the *best* names for them. It's almost like SCIENCE! Nerd that I am, I decided to take this tongue in cheek project to the internet. This program gives you the top baby names from Social Security data 1880-2022, but allows you to filter your list a few different ways for what is \"too normal.\" \n",
    "\n",
    "So Morg, here's the deal. The initial filters I suggest using here are my best guesses about what kind of names would hit the sweet spot of \"normal but not TOO normal\" for YOU two specifically. You can adjust the values and rerun this code as many times as you like, of course, but tell me how close I got! Also, if you name your baby by using this code, you are legally obligated to make me a godparent.\n",
    "\n",
    "# How does this work? \n",
    "If you have never used a code notebook before, here are some instructions. A notebook has cells of regular text (like this one) interspersed with cells of code that you can run (like the next one). \n",
    "\n",
    "I recommend hiding the code cells to make the interactive parts of this easier to see. Go to the menu at the top, and select View > Collapse All Code.\n",
    "\n",
    "Then select Run > Run All Cells\n",
    "It may take a minute to import the name data, but then it should start printing more instructions for you. \n",
    "\n",
    "If you want to rerun just part of the program, you can also run the code cells one at a time. To run just one cell, click on it to select it, and then press the Play button at the top or select Run > Run Selected Cells.\n",
    "\n",
    "You must run the first set-up cell every time you open this website, but after that you can run any of the other cells as many times as you like during that session. "
   ]
  },
  {
   "cell_type": "code",
   "execution_count": 3,
   "id": "be4cbcdc",
   "metadata": {
    "scrolled": true,
    "tags": [
     "hide-input"
    ]
   },
   "outputs": [
    {
     "name": "stdout",
     "output_type": "stream",
     "text": [
      "Importing name data...this may take a minute or two...\n",
      "\n",
      "Set up done! You only have to run this once per session.\n",
      "Now you can run the other cells as many times as you want.\n",
      "Run the next code cell whenever you are ready!\n",
      "\n",
      "\n"
     ]
    }
   ],
   "source": [
    "#Run this set-up to get started\n",
    "\n",
    "import pandas as pd # data processing, CSV file I/O (e.g. pd.read_csv)\n",
    "import datetime\n",
    "\n",
    "#set display parameter to see full lists of names\n",
    "pd.options.display.max_rows = None\n",
    "\n",
    "print('Importing name data...this may take a minute or two...')\n",
    "print()\n",
    "# Import name data     \n",
    "names = pd.read_csv('mostnames.csv',\n",
    "                   dtype = {'name':str,\n",
    "                           'sex':str,\n",
    "                           'count':int,\n",
    "                           'year':int\n",
    "                           })\n",
    "\n",
    "# get the current year\n",
    "this_year = datetime.date.today().year\n",
    "print('Set up done! You only have to run this once per session.')\n",
    "print('Now you can run the other cells as many times as you want.')\n",
    "print(\"Run the next code cell whenever you are ready!\")\n",
    "print()\n",
    "print()\n"
   ]
  },
  {
   "cell_type": "code",
   "execution_count": 5,
   "id": "3ac136fb",
   "metadata": {},
   "outputs": [
    {
     "name": "stdout",
     "output_type": "stream",
     "text": [
      "~~~THE FIRST NAME WAS TOO HOT~~~\n",
      "\n",
      "You don't want a name that's too TRENDY, right? Schools must be fully saturated with little Avas and Quinns by now.\n",
      "My guess is anything that's been in the top 10 names for either sex anytime in the last 10 years is too trendy.\n",
      "So, when prompted, enter 10 for both the elimination rank and years. (You can run it again later and enter whatever you like.)\n",
      "\n"
     ]
    },
    {
     "name": "stdin",
     "output_type": "stream",
     "text": [
      "Eliminate anything that ranked this number or better:  10\n",
      "During the last how many years?:  10\n"
     ]
    },
    {
     "name": "stdout",
     "output_type": "stream",
     "text": [
      "Okay, eliminated 33 trendy names that made the top 10 in the last 10 years.\n"
     ]
    },
    {
     "name": "stdin",
     "output_type": "stream",
     "text": [
      "Do you want to see the list? (y/n):  n\n"
     ]
    },
    {
     "name": "stdout",
     "output_type": "stream",
     "text": [
      "Ok, moving on...\n",
      "\n",
      "~~~THE NEXT NAME WAS TOO OVERDONE~~~\n",
      "You probably also don't want a name that's been massively overused by a recent generation, either. I think we have enough Jennifers for now, right? Let's try eliminating anything that has been in the top 10 for at least 5 of the last 20 years.\n",
      "\n",
      "So, for the next prompts:\n",
      "for rank enter: 10\n",
      "for number of times enter: 5\n",
      "for years enter: 20\n",
      "\n"
     ]
    },
    {
     "name": "stdin",
     "output_type": "stream",
     "text": [
      "Eliminate any names that ranked this number or better:  10\n",
      "At least this many times:  5\n",
      "In the last _____ years:  20\n"
     ]
    },
    {
     "name": "stdout",
     "output_type": "stream",
     "text": [
      "Okay, eliminated an additional 6 overused names that made the top 10 in at least 5 of the last 20 years.\n"
     ]
    },
    {
     "name": "stdin",
     "output_type": "stream",
     "text": [
      "Do you want to see the list? y/n:  n\n"
     ]
    },
    {
     "name": "stdout",
     "output_type": "stream",
     "text": [
      "Ok, moving on...\n",
      "\n",
      "~~~THE NEXT NAME WAS TOO BORING~~~\n",
      "There are classics, and then there's creakers. We all know what I'm talking about. John. Mary. The kind of names that barely function as names, because you have to add a descriptor if you want to specify which person you are talking about. (Tall Dave, Cousin Dave, or Bald Dave?)\n",
      "\n",
      "I'm guessing that threshold for you is something like names that have been in the top ten for ten or more years during the last seventy years.\n",
      "\n",
      "So, for the next prompts:\n",
      "for rank enter: 10\n",
      "for number of times enter: 10\n",
      "for years enter: 70\n",
      "\n"
     ]
    },
    {
     "name": "stdin",
     "output_type": "stream",
     "text": [
      "Eliminate any names that ranked this number or better:  10\n",
      "At least this many times:  10\n",
      "In the last _____ years:  70\n"
     ]
    },
    {
     "name": "stdout",
     "output_type": "stream",
     "text": [
      "Okay, eliminated 34 common names that made the top 10 in at least 10 of the last 70 years.\n"
     ]
    },
    {
     "name": "stdin",
     "output_type": "stream",
     "text": [
      "Do you want to see the list? y/n:  n\n"
     ]
    },
    {
     "name": "stdout",
     "output_type": "stream",
     "text": [
      "Ok, moving on...\n",
      "\n",
      "~~~THE LAST NAME WAS JUST RIGHT~~~\n",
      "Moment of truth! We'll get a list of names that have been popular any time since 1880, minus the ones we just excluded. Let's get anything else that's ever been in the top twenty. (It's probably fewer than you think!)\n",
      "\n",
      "So, for the next prompt:\n",
      "for rank enter: 20\n",
      "\n",
      "\n"
     ]
    },
    {
     "name": "stdin",
     "output_type": "stream",
     "text": [
      "See any names that ranked this number or better:  20\n"
     ]
    },
    {
     "name": "stdout",
     "output_type": "stream",
     "text": [
      "We found 169 names in your Goldilocks zone!\n"
     ]
    },
    {
     "name": "stdin",
     "output_type": "stream",
     "text": [
      "Do you want to see the list? y/n:  n\n"
     ]
    },
    {
     "name": "stdout",
     "output_type": "stream",
     "text": [
      "Hmph! Well try it again to get a list you DO want to see.\n"
     ]
    }
   ],
   "source": [
    "# Run this next! The main name generator!\n",
    "# 1) Get user parameters to eliminate the top ranking names for the last n years\n",
    "print('~~~THE FIRST NAME WAS TOO HOT~~~')\n",
    "print()\n",
    "print(\"You don't want a name that's too TRENDY, right? Schools must be fully saturated with little Avas and Quinns by now.\") \n",
    "print(\"My guess is anything that's been in the top 10 names for either sex anytime in the last 10 years is too trendy.\")\n",
    "print(\"So, when prompted, enter 10 for both the elimination rank and years. \"\n",
    "      \"(You can run it again later and enter whatever you like.)\")\n",
    "print()\n",
    "rank = input(\"Eliminate anything that ranked this number or better: \")\n",
    "rank = int(rank)\n",
    "years = input(\"During the last how many years?: \")\n",
    "years = int(years)\n",
    "\n",
    "#Now get those trendy names\n",
    "trendy = (names[names.year >= this_year-years]\n",
    "          .groupby([\"year\", \"sex\"])\n",
    "          .apply(lambda x: x.nlargest(rank, \"count\"))\n",
    "          .reset_index(drop=True)\n",
    "          .groupby(['name', 'sex'])\n",
    "          .size()\n",
    "          .reset_index()\n",
    "          .rename(columns={0:'years_on_top'})\n",
    "          .sort_values(['sex', 'years_on_top'], ascending=[True, False]))\n",
    "print('Okay, eliminated {} trendy names that made the top {} in the last {} years.'.format(len(trendy), rank, years))\n",
    "printnames = input('Do you want to see the list? (y/n): ')\n",
    "if printnames == 'y':\n",
    "    print(trendy)\n",
    "    print(\"That's everything! Moving on!\")\n",
    "else:\n",
    "    print('Ok, moving on...')\n",
    "    \n",
    "# 2) Get user parameters for overused names\n",
    "print()\n",
    "print(\"~~~THE NEXT NAME WAS TOO OVERDONE~~~\")\n",
    "print\n",
    "print(\"You probably also don't want a name that's been massively overused by a recent generation, either.\"\n",
    "      \" I think we have enough Jennifers for now, right?\"\n",
    "      \" Let's try eliminating anything that has been in the top 10 for at least 5 of the last 20 years.\")\n",
    "print()\n",
    "print(\"So, for the next prompts:\")\n",
    "print(\"for rank enter: 10\")\n",
    "print(\"for number of times enter: 5\")\n",
    "print(\"for years enter: 20\")\n",
    "print()\n",
    "rank2 = input(\"Eliminate any names that ranked this number or better: \")\n",
    "rank2 = int(rank2)\n",
    "freq2 = input(\"At least this many times: \")\n",
    "freq2 = int(freq2)\n",
    "years2 = input(\"In the last _____ years: \")\n",
    "years2 = int(years2)\n",
    "\n",
    "#Now get those overused names\n",
    "overused = (names[names.year >= this_year-years2]\n",
    "            .groupby([\"year\", \"sex\"])\n",
    "            .apply(lambda x: x.nlargest(rank2, \"count\"))\n",
    "            .reset_index(drop=True)\n",
    "            .groupby(['name', 'sex'])\n",
    "            .size()\n",
    "            .reset_index()\n",
    "            .rename(columns={0:'years_on_top'})\n",
    "            .sort_values(['sex', 'years_on_top'], ascending=[True, False]))\n",
    "overused = overused[overused.years_on_top >= freq2]\n",
    "overused = overused[~overused.name.isin(trendy.name)]\n",
    "print('Okay, eliminated an additional {} overused names that made the top {} in at least {} of the last {} years.'.format(len(overused), rank2, freq2, years2))\n",
    "printnames = input('Do you want to see the list? y/n: ')\n",
    "if printnames == 'y':\n",
    "    print(overused)\n",
    "    print(\"That's everything! Moving on!\")\n",
    "else:\n",
    "    print('Ok, moving on...')\n",
    "    \n",
    "# 3) Get user parameters for names that are too common overall\n",
    "print()\n",
    "print(\"~~~THE NEXT NAME WAS TOO BORING~~~\")\n",
    "print\n",
    "print(\"There are classics, and then there's creakers. We all know what I'm talking about. John. Mary.\"\n",
    "      \" The kind of names that barely function as names, because you have to add a descriptor if you want\"\n",
    "      \" to specify which person you are talking about. (Tall Dave, Cousin Dave, or Bald Dave?)\")\n",
    "print()\n",
    "print(\"I'm guessing that threshold for you is something like names that have been\"\n",
    "      \" in the top ten for ten or more years during the last seventy years.\")\n",
    "print()\n",
    "print(\"So, for the next prompts:\")\n",
    "print(\"for rank enter: 10\")\n",
    "print(\"for number of times enter: 10\")\n",
    "print(\"for years enter: 70\")\n",
    "print()\n",
    "rank3 = input(\"Eliminate any names that ranked this number or better: \")\n",
    "rank3 = int(rank3)\n",
    "freq3 = input(\"At least this many times: \")\n",
    "freq3 = int(freq3)\n",
    "years3 = input(\"In the last _____ years: \")\n",
    "years3 = int(years3)\n",
    "\n",
    "#Get those dead common names\n",
    "common = (names[names.year >= this_year-years3]\n",
    "            .groupby([\"year\", \"sex\"])\n",
    "            .apply(lambda x: x.nlargest(rank3, \"count\"))\n",
    "            .reset_index(drop=True)\n",
    "            .groupby(['name', 'sex'])\n",
    "            .size()\n",
    "            .reset_index()\n",
    "            .rename(columns={0:'years_on_top'})\n",
    "            .sort_values(['sex', 'years_on_top'], ascending=[True, False]))\n",
    "common = common[common.years_on_top >= freq3]\n",
    "common = common[~common.name.isin(trendy.name) & ~common.name.isin(overused.name)]\n",
    "print('Okay, eliminated {} common names that made the top {} in at least {} of the last {} years.'.format(len(common), rank3, freq3, years3))\n",
    "printnames = input('Do you want to see the list? y/n: ')\n",
    "if printnames == 'y':\n",
    "    print(common)\n",
    "    print(\"That's everything! Moving on!\")\n",
    "else:\n",
    "    print('Ok, moving on...')\n",
    "\n",
    "# 4) Get user parameters for name frequency\n",
    "print()\n",
    "print(\"~~~THE LAST NAME WAS JUST RIGHT~~~\")\n",
    "print\n",
    "print(\"Moment of truth! We'll get a list of names that have been popular any time since 1880,\"\n",
    "      \" minus the ones we just excluded. Let's get anything else that's ever been in the top twenty.\"\n",
    "      \" (It's probably fewer than you think!)\")\n",
    "print()\n",
    "print(\"So, for the next prompt:\")\n",
    "print(\"for rank enter: 20\")\n",
    "print()\n",
    "rank4 = input('See any names that ranked this number or better: ')\n",
    "rank4 = int(rank4)\n",
    "\n",
    "#Get all the other top names\n",
    "greatest_hits = (names.groupby([\"year\", \"sex\"])\n",
    "             .apply(lambda x: x.nlargest(rank4, \"count\"))\n",
    "             .reset_index(drop=True)\n",
    "             .groupby(['name', 'sex'])\n",
    "             .size()\n",
    "             .reset_index()\n",
    "             .rename(columns={0:'years_on_top'})\n",
    "             .sort_values(['sex', 'years_on_top'], ascending=[True, False]))\n",
    "             \n",
    "#combine all those too common names and remove them from the greatest_hits\n",
    "too_popular = pd.concat([trendy, overused, common]).drop_duplicates('name').sort_values(['sex','years_on_top'])\n",
    "greatest_hits = greatest_hits[~greatest_hits.name.isin(too_popular.name)]\n",
    "\n",
    "print('We found {} names in your Goldilocks zone!'.format(len(greatest_hits)))\n",
    "printnames = input('Do you want to see the list? (y/n): ')\n",
    "if printnames == 'y':\n",
    "    print(greatest_hits)          \n",
    "else:\n",
    "    print(\"Hmph! Well try it again to get a list you DO want to see.\")"
   ]
  },
  {
   "cell_type": "markdown",
   "id": "9c6985e4-f985-4333-a6dc-352889bf7135",
   "metadata": {},
   "source": [
    "# Bonus Feature: Unisex Names\n",
    "Morg, remember how I mentioned women with masculine names have been shown to succeed more in STEM and business? Want to see a list of names that have been used for both male and female babies recently? In the entire dataset, there are more than 11,000 names that have been registered for both girls and boys, but most of them are used overwhelmingly for one sex, with just few outliers of the other. Maybe you want to see names where only 5% of the babies cross the gender line, or maybe you would rather see names that are closer to 50-50. So next you will need to specify the level of gender neutrality you want these names to have, by specifying a minimum percentage of time the name should have been used for girls and boys. Run the next code block to see these.\n",
    "\n",
    "Interesting side note: \"Unisex\" names almost always start as masculine names. When unisex names become popular as female name, parents have historically abandoned them as male names. This is why 98% of Ashleys and Leslies are female now, whereas 100% of them were male at the turn of the century, for example. However, I've found at least one recent exceptions to this rule: Shannon has a very long history as ambisexual, but after reaching a low of 4% male in the 90s, Shannon has slowly been regaining ground for males since the 2000s, with male use being 30-42% in the last five years. I wonder if this name is an exception or if there is more of this happening due to recent generations' more flexible attitudes towards gender?"
   ]
  },
  {
   "cell_type": "code",
   "execution_count": 6,
   "id": "eed0dabb-2833-448d-8b83-3126b4590c72",
   "metadata": {
    "tags": [
     "hide-input"
    ]
   },
   "outputs": [
    {
     "name": "stdout",
     "output_type": "stream",
     "text": [
      "Since name gender shifts over time, please specify how many years you want this data to include.\n"
     ]
    },
    {
     "name": "stdin",
     "output_type": "stream",
     "text": [
      "How many recent years?:  10\n"
     ]
    },
    {
     "name": "stdout",
     "output_type": "stream",
     "text": [
      "OK, you want names that were used for both boys and girls over the last 10 years.\n"
     ]
    },
    {
     "name": "stdin",
     "output_type": "stream",
     "text": [
      "What should the minimum percentage of FEMALE use be in that time? (please enter only a number, no percent sign):  40\n",
      "And what should the minimum percentage of MALE use be? (please enter only a number, no percent sign):  40\n"
     ]
    },
    {
     "name": "stdout",
     "output_type": "stream",
     "text": [
      "Your criteria returned 171 names.\n",
      "If that is more than you expected, it probably includes quite rare names.\n"
     ]
    },
    {
     "name": "stdin",
     "output_type": "stream",
     "text": [
      "Would you like to narrow it down to just the more common names on the list? (y/n):  y\n",
      "See only names with at least how many uses? (1000, 5000, etc):  1000\n"
     ]
    },
    {
     "name": "stdout",
     "output_type": "stream",
     "text": [
      "There are 62 names left now.\n"
     ]
    },
    {
     "name": "stdin",
     "output_type": "stream",
     "text": [
      "Is that list small enough? (y/n):  y\n"
     ]
    },
    {
     "name": "stdout",
     "output_type": "stream",
     "text": [
      "sex            F      M  percent_female  total_uses\n",
      "name                                               \n",
      "Charlie    18708  17959            0.51       36667\n",
      "Emerson    17996  12136            0.60       30132\n",
      "Finley     15332  11104            0.58       26436\n",
      "Dakota     12467   9304            0.57       21771\n",
      "Phoenix     8619  12601            0.41       21220\n",
      "Skyler      8074   6831            0.54       14905\n",
      "Oakley      8503   5887            0.59       14390\n",
      "Armani      5077   6665            0.43       11742\n",
      "Remy        4556   6765            0.40       11321\n",
      "Justice     5785   4884            0.54       10669\n",
      "Azariah     3352   3373            0.50        6725\n",
      "Landry      2939   2473            0.54        5412\n",
      "Robin       2601   2223            0.54        4824\n",
      "Bellamy     2472   1893            0.57        4365\n",
      "Sidney      2195   1738            0.56        3933\n",
      "Campbell    2182   1709            0.56        3891\n",
      "Murphy      1858   1755            0.51        3613\n",
      "Ocean       1580   1941            0.45        3521\n",
      "Hollis      1288   1680            0.43        2968\n",
      "Joan        1191   1749            0.41        2940\n",
      "Jael        1505   1378            0.52        2883\n",
      "Laken       1511   1131            0.57        2642\n",
      "Ever        1043   1445            0.42        2488\n",
      "Gentry      1192   1230            0.49        2422\n",
      "Brighton    1130   1218            0.48        2348\n",
      "Ramsey       922   1291            0.42        2213\n",
      "True        1007   1066            0.49        2073\n",
      "Isa          860   1203            0.42        2063\n",
      "Kodi        1129    879            0.56        2008\n",
      "Honor       1120    877            0.56        1997\n",
      "Lux         1051    901            0.54        1952\n",
      "Jaidyn       839   1043            0.45        1882\n",
      "Jules        912    925            0.50        1837\n",
      "Storm        966    795            0.55        1761\n",
      "Yuri        1015    710            0.59        1725\n",
      "Linden       740    938            0.44        1678\n",
      "Ridley       873    758            0.54        1631\n",
      "Marlo        946    649            0.59        1595\n",
      "Reilly       819    768            0.52        1587\n",
      "Indiana      887    697            0.56        1584\n",
      "Jackie       877    707            0.55        1584\n",
      "Gracen       744    715            0.51        1459\n",
      "Ryley        807    637            0.56        1444\n",
      "Nikita       642    769            0.45        1411\n",
      "Daylin       837    563            0.60        1400\n",
      "Kit          623    767            0.45        1390\n",
      "Aris         533    782            0.41        1315\n",
      "Lexington    690    569            0.55        1259\n",
      "Amen         592    664            0.47        1256\n",
      "Unknown      519    720            0.42        1239\n",
      "Tenzin       501    726            0.41        1227\n",
      "Eastyn       494    731            0.40        1225\n",
      "Camari       524    693            0.43        1217\n",
      "Wynn         593    620            0.49        1213\n",
      "Lake         497    715            0.41        1212\n",
      "Payson       601    582            0.51        1183\n",
      "Timber       648    469            0.58        1117\n",
      "Lyrik        658    449            0.59        1107\n",
      "Huntley      483    598            0.45        1081\n",
      "Jireh        449    627            0.42        1076\n",
      "Cypress      484    587            0.45        1071\n",
      "Kobi         466    596            0.44        1062\n"
     ]
    }
   ],
   "source": [
    "#Get user input for time frame and gender neutrality\n",
    "print('Since name gender shifts over time, please specify how many years you want this data to include.')\n",
    "years_a = input('How many recent years?: ')\n",
    "years_a = int(years_a)\n",
    "\n",
    "print('OK, you want names that were used for both boys and girls over the last {} years.'.format(years_a))\n",
    "f_percent = input('What should the minimum percentage of FEMALE use be in that time? (please enter only a number, no percent sign): ')\n",
    "f_percent = int(f_percent)\n",
    "if f_percent >= 1:\n",
    "    f_percent = f_percent*.01\n",
    "    \n",
    "m_percent = input('And what should the minimum percentage of MALE use be? (please enter only a number, no percent sign): ')\n",
    "m_percent = int(m_percent)\n",
    "if m_percent >= 1:\n",
    "    m_percent = m_percent*.01\n",
    "\n",
    "#Find those ambisexual names!\n",
    "recent = names[names.year >= this_year-years_a]\n",
    "recent_by_sex = (recent\n",
    "                 .groupby(['name', 'sex'])\n",
    "                 .size()\n",
    "                 .reset_index())\n",
    "\n",
    "recent_ambi = set(recent_by_sex[recent_by_sex.duplicated('name')].name)\n",
    "\n",
    "ambi = (recent[recent.name.isin(recent_ambi)]\n",
    "               .groupby([\"name\", \"sex\"])\n",
    "               .agg({'year':'count', 'count':'sum'})\n",
    "               .reset_index()\n",
    "               .rename(columns={'year':'years_used', 'count':'total'})\n",
    "               .sort_values(['name', 'sex'], ascending=[True, False])\n",
    "               .pivot(columns='sex', index='name', values='total'))\n",
    "\n",
    "ambi['percent_female'] = ambi.F/(ambi.F + ambi.M)\n",
    "ambi['total_uses'] = ambi.F + ambi.M\n",
    "\n",
    "popular = ambi[ambi.percent_female >= f_percent]\n",
    "popular = popular[popular.percent_female <= (1-m_percent)].sort_values('total_uses', ascending = False)\n",
    "popular.percent_female = popular.percent_female.apply(lambda percent: round(percent, 2))\n",
    "\n",
    "print('Your criteria returned {} names.'.format(len(popular)))\n",
    "print('If that is more than you expected, it probably includes quite rare names.')\n",
    "abridge = input('Would you like to narrow it down to just the more common names on the list? (y/n): ')\n",
    "if abridge == 'y':\n",
    "    satisfied = 'n'\n",
    "    while satisfied != 'y':\n",
    "        threshold = input('See only names with at least how many uses? (1000, 5000, etc): ')\n",
    "        threshold = int(threshold)\n",
    "        popular = popular[popular.total_uses >= threshold]\n",
    "        print('There are {} names left now.'.format(len(popular)))\n",
    "        satisfied = input('Is that list small enough? (y/n): ')\n",
    "    print(popular)\n",
    "else:\n",
    "    seelist = input('Would you like to see the list? (y/n): ')\n",
    "    if seelist == 'y':\n",
    "        print(popular)"
   ]
  },
  {
   "cell_type": "markdown",
   "id": "d81e1450-9850-49cd-86ab-06f7e4549b18",
   "metadata": {},
   "source": [
    "## Want to see the gender history of a specific name? \n",
    "Run the next code cell to check out the details on any specific name."
   ]
  },
  {
   "cell_type": "code",
   "execution_count": 7,
   "id": "a704cdcb-ac7a-4d1d-9d8d-520e0e6ed316",
   "metadata": {
    "tags": [
     "hide-input"
    ]
   },
   "outputs": [
    {
     "name": "stdin",
     "output_type": "stream",
     "text": [
      "What name? (Make sure to capitalize it):  Jesse\n"
     ]
    },
    {
     "name": "stdout",
     "output_type": "stream",
     "text": [
      "sex     F      M  percent_female\n",
      "year                            \n",
      "1880    5    569            0.01\n",
      "1881    5    536            0.01\n",
      "1882    5    660            0.01\n",
      "1883    6    584            0.01\n",
      "1884   14    670            0.02\n",
      "1885   15    556            0.03\n",
      "1886    6    614            0.01\n",
      "1887   10    601            0.02\n",
      "1888   12    637            0.02\n",
      "1889   14    576            0.02\n",
      "1890   10    576            0.02\n",
      "1891   11    519            0.02\n",
      "1892   14    602            0.02\n",
      "1893   12    541            0.02\n",
      "1894   11    567            0.02\n",
      "1895   11    577            0.02\n",
      "1896   15    586            0.02\n",
      "1897   10    529            0.02\n",
      "1898   15    476            0.03\n",
      "1899   17    423            0.04\n",
      "1900   10    536            0.02\n",
      "1901   13    411            0.03\n",
      "1902   15    437            0.03\n",
      "1903   16    388            0.04\n",
      "1904   12    443            0.03\n",
      "1905   23    443            0.05\n",
      "1906   15    436            0.03\n",
      "1907   10    466            0.02\n",
      "1908    8    482            0.02\n",
      "1909   18    517            0.03\n",
      "1910   11    590            0.02\n",
      "1911   16    596            0.03\n",
      "1912   27   1106            0.02\n",
      "1913   31   1214            0.02\n",
      "1914   26   1457            0.02\n",
      "1915   43   2111            0.02\n",
      "1916   31   2230            0.01\n",
      "1917   25   2200            0.01\n",
      "1918   56   2433            0.02\n",
      "1919   48   2356            0.02\n",
      "1920   36   2420            0.01\n",
      "1921   45   2486            0.02\n",
      "1922   35   2395            0.01\n",
      "1923   36   2387            0.01\n",
      "1924   55   2292            0.02\n",
      "1925   52   2373            0.02\n",
      "1926   53   2298            0.02\n",
      "1927   45   2318            0.02\n",
      "1928   41   2171            0.02\n",
      "1929   42   2030            0.02\n",
      "1930   28   2034            0.01\n",
      "1931   35   1896            0.02\n",
      "1932   31   1863            0.02\n",
      "1933   24   1804            0.01\n",
      "1934   23   1853            0.01\n",
      "1935   29   1865            0.02\n",
      "1936   19   1827            0.01\n",
      "1937   19   1865            0.01\n",
      "1938   29   1912            0.01\n",
      "1939   27   2010            0.01\n",
      "1940   25   2204            0.01\n",
      "1941   17   2185            0.01\n",
      "1942   24   2396            0.01\n",
      "1943   24   2426            0.01\n",
      "1944   22   2311            0.01\n",
      "1945   21   2187            0.01\n",
      "1946   14   2467            0.01\n",
      "1947   27   2751            0.01\n",
      "1948   21   2705            0.01\n",
      "1949   20   2704            0.01\n",
      "1950   28   2607            0.01\n",
      "1951   37   2670            0.01\n",
      "1952   36   2722            0.01\n",
      "1953   28   2818            0.01\n",
      "1954   25   2758            0.01\n",
      "1955   26   2785            0.01\n",
      "1956   25   2624            0.01\n",
      "1957   25   2737            0.01\n",
      "1958   21   2488            0.01\n",
      "1959   15   2438            0.01\n",
      "1960   34   2377            0.01\n",
      "1961   36   2303            0.02\n",
      "1962   29   2274            0.01\n",
      "1963   31   2231            0.01\n",
      "1964   30   2186            0.01\n",
      "1965   22   2213            0.01\n",
      "1966   39   2315            0.02\n",
      "1967   30   2186            0.01\n",
      "1968   28   2148            0.01\n",
      "1969   51   2381            0.02\n",
      "1970   52   2767            0.02\n",
      "1971   51   3005            0.02\n",
      "1972   52   3228            0.02\n",
      "1973   61   3444            0.02\n",
      "1974   83   4106            0.02\n",
      "1975  117   4437            0.03\n",
      "1976  136   5302            0.03\n",
      "1977  163   5823            0.03\n",
      "1978  191   6109            0.03\n",
      "1979  227   6682            0.03\n",
      "1980  292   8382            0.03\n",
      "1981  380  10448            0.04\n",
      "1982  308   9502            0.03\n",
      "1983  257   8470            0.03\n",
      "1984  287   7608            0.04\n",
      "1985  279   8220            0.03\n",
      "1986  354   8544            0.04\n",
      "1987  322   7983            0.04\n",
      "1988  318   7911            0.04\n",
      "1989  314   8858            0.03\n",
      "1990  347   8977            0.04\n",
      "1991  338   8369            0.04\n",
      "1992  312   8561            0.04\n",
      "1993  336   8264            0.04\n",
      "1994  357   8683            0.04\n",
      "1995  367   7494            0.05\n",
      "1996  289   7075            0.04\n",
      "1997  263   5918            0.04\n",
      "1998  271   5444            0.05\n",
      "1999  355   5004            0.07\n",
      "2000  282   4485            0.06\n",
      "2001  195   4222            0.04\n",
      "2002  190   4431            0.04\n",
      "2003  172   4605            0.04\n",
      "2004  181   4760            0.04\n",
      "2005  173   4746            0.04\n",
      "2006  122   4370            0.03\n",
      "2007  117   4129            0.03\n",
      "2008  120   3953            0.03\n",
      "2009  108   3682            0.03\n",
      "2010  108   3277            0.03\n",
      "2011   81   2970            0.03\n",
      "2012   79   2708            0.03\n",
      "2013   70   2567            0.03\n",
      "2014   72   2467            0.03\n",
      "2015   66   2354            0.03\n",
      "2016   67   2306            0.03\n",
      "2017   76   2103            0.03\n",
      "2018   82   2143            0.04\n",
      "2019   59   1969            0.03\n",
      "2020   63   1878            0.03\n",
      "2021   69   1896            0.04\n",
      "2022   49   1952            0.02\n"
     ]
    }
   ],
   "source": [
    "#See how a specific name has changed over time\n",
    "def sexism(testname):\n",
    "    name_df = (names[names.name == testname]\n",
    "               .pivot(columns = 'sex', values = 'count', index = 'year')\n",
    "               .fillna(0))\n",
    "    if len(name_df) == 0:\n",
    "        print(testname + ' not found.')\n",
    "        return None\n",
    "    elif len(name_df.columns) < 2:\n",
    "        print(testname + ' only recorded for one sex.')\n",
    "        return name_df\n",
    "    else:\n",
    "        name_df['percent_female'] = round(name_df.F/(name_df.F + name_df.M), 2)\n",
    "        return name_df\n",
    "\n",
    "testname = input('What name? (Make sure to capitalize it): ')\n",
    "name_report = sexism(testname)\n",
    "if name_report is not None:\n",
    "    print(name_report)"
   ]
  },
  {
   "cell_type": "code",
   "execution_count": null,
   "id": "1c7255b5-265e-4170-8905-b46fc123aee0",
   "metadata": {},
   "outputs": [],
   "source": []
  }
 ],
 "metadata": {
  "celltoolbar": "Tags",
  "kernelspec": {
   "display_name": "Python 3 (Spyder)",
   "language": "python3",
   "name": "python3"
  },
  "language_info": {
   "codemirror_mode": {
    "name": "ipython",
    "version": 3
   },
   "file_extension": ".py",
   "mimetype": "text/x-python",
   "name": "python",
   "nbconvert_exporter": "python",
   "pygments_lexer": "ipython3",
   "version": "3.11.4"
  }
 },
 "nbformat": 4,
 "nbformat_minor": 5
}
